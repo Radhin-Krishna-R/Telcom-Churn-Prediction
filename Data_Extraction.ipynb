{
  "nbformat": 4,
  "nbformat_minor": 0,
  "metadata": {
    "colab": {
      "provenance": []
    },
    "kernelspec": {
      "name": "python3",
      "display_name": "Python 3"
    },
    "language_info": {
      "name": "python"
    }
  },
  "cells": [
    {
      "cell_type": "code",
      "execution_count": null,
      "metadata": {
        "id": "CyP37WtzSbKz"
      },
      "outputs": [],
      "source": [
        "import requests\n",
        "import csv\n",
        "import json"
      ]
    },
    {
      "cell_type": "code",
      "source": [
        "api_endpoint = \"https://api.example.com/data\"\n",
        "api_key = \"your_api_key\"\n",
        "parameters = {\n",
        "    \"key\": api_key,\n",
        "    \"format\": \"json\",\n",
        "    \"other_parameters\": \"value\"\n",
        "}"
      ],
      "metadata": {
        "id": "rjBx9-cgSkrR"
      },
      "execution_count": null,
      "outputs": []
    },
    {
      "cell_type": "code",
      "source": [
        "response = requests.get(api_endpoint, params=parameters)\n",
        "if response.status_code == 200:\n",
        "    data = response.json()  # Assuming JSON response\n",
        "else:\n",
        "    print(\"Error:\", response.status_code, response.text)\n",
        "    exit()"
      ],
      "metadata": {
        "id": "SWlEOx8oSknW"
      },
      "execution_count": null,
      "outputs": []
    },
    {
      "cell_type": "code",
      "source": [
        "csv_filename = \"api_data.csv\"\n",
        "fields = [\"field1\", \"field2\", \"field3\"]  # Replace with actual field names\n",
        "with open(csv_filename, \"w\", newline=\"\") as csvfile:\n",
        "    csv_writer = csv.writer(csvfile)\n",
        "    csv_writer.writerow(fields)\n",
        "    for item in data:\n",
        "        row = [item[\"field1\"], item[\"field2\"], item[\"field3\"]]  # Adjust based on data structure\n",
        "        csv_writer.writerow(row)"
      ],
      "metadata": {
        "id": "XVw_IzlvSkii"
      },
      "execution_count": null,
      "outputs": []
    },
    {
      "cell_type": "code",
      "source": [
        "page = 1\n",
        "while True:\n",
        "    parameters[\"page\"] = page\n",
        "    response = requests.get(api_endpoint, params=parameters)\n",
        "    data = response.json()\n",
        "    # Process data as before\n",
        "    page += 1\n",
        "    if not data or \"next_page\" not in data:\n",
        "        break"
      ],
      "metadata": {
        "id": "_4iX7V_ySkfx"
      },
      "execution_count": null,
      "outputs": []
    },
    {
      "cell_type": "code",
      "source": [],
      "metadata": {
        "id": "tQW9Kc1yUZM9"
      },
      "execution_count": null,
      "outputs": []
    },
    {
      "cell_type": "code",
      "source": [],
      "metadata": {
        "id": "QBT3kwEKSkZc"
      },
      "execution_count": null,
      "outputs": []
    }
  ]
}