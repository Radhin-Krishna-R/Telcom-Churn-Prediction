{
  "nbformat": 4,
  "nbformat_minor": 0,
  "metadata": {
    "colab": {
      "provenance": [],
      "authorship_tag": "ABX9TyPTsWj9+dtIKNX+Cmbi3lHu",
      "include_colab_link": true
    },
    "kernelspec": {
      "name": "python3",
      "display_name": "Python 3"
    },
    "language_info": {
      "name": "python"
    }
  },
  "cells": [
    {
      "cell_type": "markdown",
      "metadata": {
        "id": "view-in-github",
        "colab_type": "text"
      },
      "source": [
        "<a href=\"https://colab.research.google.com/github/Radhin-Krishna-R/Telcom-Churn-Prediction/blob/main/Interface.ipynb\" target=\"_parent\"><img src=\"https://colab.research.google.com/assets/colab-badge.svg\" alt=\"Open In Colab\"/></a>"
      ]
    },
    {
      "cell_type": "code",
      "source": [
        "pip install streamlit"
      ],
      "metadata": {
        "id": "Ayd7e6v-1_Ul"
      },
      "execution_count": null,
      "outputs": []
    },
    {
      "cell_type": "code",
      "execution_count": null,
      "metadata": {
        "id": "ooDMN7ha17XY"
      },
      "outputs": [],
      "source": [
        "import streamlit as st\n",
        "from tensorflow.keras.models import load_model\n",
        "\n",
        "# Load the Keras model\n",
        "model = load_model('my_model.keras')\n",
        "\n",
        "# Define the input options\n",
        "gender_options = ['Female', 'Male']\n",
        "partner_options = ['Yes', 'No']\n",
        "dependents_options = ['No', 'Yes']\n",
        "phone_service_options = ['No', 'Yes']\n",
        "multiple_lines_options = ['No phone service', 'No', 'Yes']\n",
        "internet_service_options = ['DSL', 'Fiber optic', 'No']\n",
        "online_security_options = ['No', 'Yes', 'No internet service']\n",
        "online_backup_options = ['Yes', 'No', 'No internet service']\n",
        "device_protection_options = ['No', 'Yes', 'No internet service']\n",
        "tech_support_options = ['No', 'Yes', 'No internet service']\n",
        "streaming_tv_options = ['No', 'Yes', 'No internet service']\n",
        "streaming_movies_options = ['No', 'Yes', 'No internet service']\n",
        "contract_options = ['Month-to-month', 'One year', 'Two year']\n",
        "paperless_billing_options = ['Yes', 'No']\n",
        "payment_method_options = ['Electronic check', 'Mailed check', 'Bank transfer (automatic)', 'Credit card (automatic)']\n",
        "\n",
        "\n",
        "if st.button(\"Predict Churn\"):\n",
        "  input_data = {\n",
        "      \"gender\": gender,\n",
        "      \"partner\": partner,\n",
        "      \"dependents\": dependents,\n",
        "      \"phone_service\": phone_service,\n",
        "      \"multiple_lines\": multiple_lines,\n",
        "      \"internet_service\": internet_service,\n",
        "      \"online_security\": online_security,\n",
        "      \"online_backup\": online_backup,\n",
        "      \"device_protection\": device_protection,\n",
        "      \"tech_support\": tech_support,\n",
        "      \"streaming_tv\": streaming_tv,\n",
        "      \"streaming_movies\": streaming_movies,\n",
        "\"contract\": contract,\n",
        "      \"paperless_billing\": paperless_billing,\n",
        "      \"payment_method\": payment_method}\n",
        "\n",
        "  predicted_churn = predict(input_data)\n",
        "  st.write(\"Predicted Churn:\", predicted_churn)\n",
        "\n",
        "\n",
        "# Define the prediction function\n",
        "def predict(input_data):\n",
        "  result=model.predict(input_data)\n",
        "  return result"
      ]
    }
  ]
}